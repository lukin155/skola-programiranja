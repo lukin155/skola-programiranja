{
 "cells": [
  {
   "cell_type": "markdown",
   "metadata": {},
   "source": [
    "Sa Pajtonovog zvaničnog sajta može se preuzeti Pajton (Python) interpretator. Posetite stranicu https://www.python.org/downloads/ i preuzmite najnoviju verziju Pajtona.\n",
    "\n",
    "Kada instalirate Pajton, pokrenite komandnu liniju Vindovsa (Windows Command Line). Najlakše je kliknuti na Start i otkucati cmd. Ovako izgleda prozor komandne linije:\n",
    "<img src=\"http://www.computerhope.com/issues/pictures/dos.jpg\">\n",
    "\n",
    "U komandnoj liniji otkucajte \"python\", i - u Pajtonu ste!\n",
    "\n",
    "Ukoliko komandna linija ne prepoznaje reč \"python\", morate ga dodati u putanju (PATH). Uputstvo za dodavanje možete naći ovde: http://stackoverflow.com/questions/21372637/installing-python-2-7-on-windows-8. Da bi komandna linija učitala nove \"putanje\", morate pokrenuti novu instancu komandne linije (onu već otvorenu možete zatvoriti).\n",
    "\n",
    "Trebalo bi da vidite nešto ovako:<br />\n",
    "Python 3.5.2 |Anaconda 4.2.0 (64-bit)| (default, Jul  5 2016, 11:41:13) [MSC v.1900 64 bit (AMD64)] on win32\n",
    "Type \"help\", \"copyright\", \"credits\" or \"license\" for more information.\n",
    "\n",
    "I komandna linija će sada pokazivati karaktere \">>>\" ispred treperećeg pokazivača, što znači da Pajton iščekuje komande.\n",
    "\n",
    "Otkucajte u Pajtonu sledeću komandu (ovde možete videti i komandu i njen izlaz):"
   ]
  },
  {
   "cell_type": "code",
   "execution_count": 7,
   "metadata": {
    "collapsed": false
   },
   "outputs": [
    {
     "name": "stdout",
     "output_type": "stream",
     "text": [
      "Hello, World!\n"
     ]
    }
   ],
   "source": [
    "print(\"Hello, World!\")"
   ]
  },
  {
   "cell_type": "markdown",
   "metadata": {},
   "source": [
    "Funkcija \"print\" služi za prikazivanje teksta na ekranu. Probajte da ispišete neku drugu poruku. Bitno je da tekst koji prosleđujete funkciji bude pod navodnicima!"
   ]
  }
 ],
 "metadata": {
  "anaconda-cloud": {},
  "kernelspec": {
   "display_name": "Python [default]",
   "language": "python",
   "name": "python3"
  },
  "language_info": {
   "codemirror_mode": {
    "name": "ipython",
    "version": 3
   },
   "file_extension": ".py",
   "mimetype": "text/x-python",
   "name": "python",
   "nbconvert_exporter": "python",
   "pygments_lexer": "ipython3",
   "version": "3.5.2"
  }
 },
 "nbformat": 4,
 "nbformat_minor": 1
}
