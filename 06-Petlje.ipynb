{
 "cells": [
  {
   "cell_type": "markdown",
   "metadata": {},
   "source": [
    "U programiranju, često se javlja potreba da se neki delovi koda izvrše više puta. U tim situacijama, koriste se petlje."
   ]
  },
  {
   "cell_type": "markdown",
   "metadata": {},
   "source": [
    "# Petlja <i>while</i>"
   ]
  },
  {
   "cell_type": "markdown",
   "metadata": {},
   "source": [
    "Za petlju tipa <i>while</i>, u Pajtonu se koristi ključna reč <b>while</b>. Kod ovog tipa petlje, telo petlje se izvršava dok god je uslov koji smo zadali zadovoljen."
   ]
  },
  {
   "cell_type": "markdown",
   "metadata": {},
   "source": [
    "U sledećem primeru, uslov će biti da je vrednost promenljive <i>i</i> manja od 10, a u telu petlje ćemo prikazivati trenutnu vrednost promenljive <i>i</i> i uvećavati je za 1."
   ]
  },
  {
   "cell_type": "code",
   "execution_count": 11,
   "metadata": {
    "collapsed": false
   },
   "outputs": [
    {
     "name": "stdout",
     "output_type": "stream",
     "text": [
      "1\n",
      "2\n",
      "3\n",
      "4\n",
      "5\n",
      "6\n",
      "7\n",
      "8\n",
      "9\n",
      "10\n"
     ]
    }
   ],
   "source": [
    "# Initialize the counter\n",
    "i = 1\n",
    "\n",
    "# Loop while printing out and incrementing the values of the counter\n",
    "while (i <= 10):\n",
    "    print(i)\n",
    "    # Increment the counter inside the loop\n",
    "    i = i + 1 "
   ]
  },
  {
   "cell_type": "markdown",
   "metadata": {},
   "source": [
    "U sledećem primeru, broj ponavljanja zavisiće od broja koji korisnik unese s tastature, a prvi i poslednji prolazak kroz petlju razlikovaće se od ostalih."
   ]
  },
  {
   "cell_type": "code",
   "execution_count": 12,
   "metadata": {
    "collapsed": false
   },
   "outputs": [
    {
     "name": "stdout",
     "output_type": "stream",
     "text": [
      "How many rows would you like printed?\n",
      "7\n",
      "Here is the first row.\n",
      "Here is another row.\n",
      "Here is another row.\n",
      "Here is another row.\n",
      "Here is another row.\n",
      "Here is another row.\n",
      "Here is the last (7th) row.\n"
     ]
    }
   ],
   "source": [
    "# Obtain the required number of passes from the user\n",
    "num_passes = int(input(\"How many rows would you like printed?\\n\"))\n",
    "\n",
    "# Initialize the counter\n",
    "i = 1\n",
    "\n",
    "# Loop and print the required number of rows\n",
    "while (i <= num_passes):\n",
    "    if (1 == i):\n",
    "        print(\"Here is the first row.\")\n",
    "    elif (num_passes == i):\n",
    "        print(\"Here is the last (%dth) row.\" % i)\n",
    "    else:\n",
    "        print(\"Here is another row.\")\n",
    "    \n",
    "    # Increment the counter inside the loop\n",
    "    i += 1 # \"i += x\" is equivalent to \"i = i + x\""
   ]
  },
  {
   "cell_type": "markdown",
   "metadata": {},
   "source": [
    "Realizovaćemo istu funkcionalnost iz prethodnog primera na drugačiji način, tako što ćemo štampanje prvog i poslednjeg reda izmestiti iz petlje. Prvi red ćemo štampati pre petlje, a poslednji posle petlje."
   ]
  },
  {
   "cell_type": "code",
   "execution_count": 13,
   "metadata": {
    "collapsed": false
   },
   "outputs": [
    {
     "name": "stdout",
     "output_type": "stream",
     "text": [
      "How many rows would you like printed?\n",
      "5\n",
      "Here is the first row.\n",
      "Here is another row.\n",
      "Here is another row.\n",
      "Here is another row.\n",
      "Here is the last (5th) row.\n"
     ]
    }
   ],
   "source": [
    "# Obtain the required number of passes from the user\n",
    "num_passes = int(input(\"How many rows would you like printed?\\n\"))\n",
    "\n",
    "# Print the first row BEFORE the loop\n",
    "print(\"Here is the first row.\")\n",
    "\n",
    "# Initialize the counter to 2, because the first row has already been printed\n",
    "i = 2\n",
    "\n",
    "# Print the \"middle rows\" - all rows except the first and the last one\n",
    "while (i <= num_passes - 1):\n",
    "    print(\"Here is another row.\")\n",
    "    i += 1\n",
    "\n",
    "# Print the last row\n",
    "print(\"Here is the last (%dth) row.\" % i)"
   ]
  },
  {
   "cell_type": "markdown",
   "metadata": {},
   "source": [
    "# Petlja <i>for</i>"
   ]
  },
  {
   "cell_type": "markdown",
   "metadata": {},
   "source": [
    "Još jedan tip petlje u Pajtonu je petlja <i>for</i>, za koji se koriste ključne reči <b>for</b> i <b>in</b>. Sledi primer u kojem se na ekranu štampaju prirodni brojevi od 1 do 10, kao u prvom primeru petlje <i>while</i>."
   ]
  },
  {
   "cell_type": "markdown",
   "metadata": {},
   "source": [
    "Osim ključnih reči <b>for</b> i <b>in</b>, još nešto što koristimo kod petlji tipa <i>for</i> jeste tip podataka koji se naziva listom (eng. <i>list</i>). Lista se obeležava otvorenom uglastom zagradom, listom njenih elemenata razdvojenih zapetama i zatvorenom uglastom zagradom, tim redosledom. Listom zadajemo vrednosti kroz koje petlja prolazi u svojim ponavljanjima - u svakom ponavljanju Pajton će uzimati naredni unos iz liste. Ovakav način rada petlje <i>for</i> razlikuje se od tradicionalnih programskih jezika, i više liči na ono što se naziva <i>for each</i> ili <i>foreach</i> u mnogim programskim jezicima koji su u vreme nastajanja Pajtona bili popularni."
   ]
  },
  {
   "cell_type": "code",
   "execution_count": 14,
   "metadata": {
    "collapsed": false
   },
   "outputs": [
    {
     "name": "stdout",
     "output_type": "stream",
     "text": [
      "1\n",
      "2\n",
      "3\n",
      "4\n",
      "5\n",
      "6\n",
      "7\n",
      "8\n",
      "9\n",
      "10\n"
     ]
    }
   ],
   "source": [
    "for i in [1, 2, 3, 4, 5, 6, 7, 8, 9, 10]:\n",
    "    print(i)"
   ]
  },
  {
   "cell_type": "markdown",
   "metadata": {},
   "source": [
    "## Funkcija <i>range</i>"
   ]
  },
  {
   "cell_type": "markdown",
   "metadata": {},
   "source": [
    "Kako ne bismo svaki put prilikom korišćenja petlje <i>for</i> eksplicitno navodili elemente liste, možemo koristiti funkciju <i>range</i>, koja služi za generisanje lista."
   ]
  },
  {
   "cell_type": "markdown",
   "metadata": {},
   "source": [
    "Ukoliko funkciji <i>range</i> prosledimo jedan argument, ona će generisati listu svih brojeva od 0 do datog broja."
   ]
  },
  {
   "cell_type": "code",
   "execution_count": 15,
   "metadata": {
    "collapsed": false
   },
   "outputs": [
    {
     "name": "stdout",
     "output_type": "stream",
     "text": [
      "0\n",
      "1\n",
      "2\n",
      "3\n",
      "4\n",
      "5\n",
      "6\n",
      "7\n",
      "8\n",
      "9\n"
     ]
    }
   ],
   "source": [
    "my_list = range(10) # starting from 0, 10 not included\n",
    "for i in my_list:\n",
    "    print(i)"
   ]
  },
  {
   "cell_type": "markdown",
   "metadata": {},
   "source": [
    "Možemo joj proslediti i dva argumenta, koje će ona tumačiti kao početni i krajnji broj u intervalu zatvorenom s leve strane (prvi broj pripada intervalu, dok poslednji broj ne pripada intervalu)."
   ]
  },
  {
   "cell_type": "code",
   "execution_count": 18,
   "metadata": {
    "collapsed": false
   },
   "outputs": [
    {
     "name": "stdout",
     "output_type": "stream",
     "text": [
      "8\n",
      "9\n",
      "10\n",
      "11\n",
      "12\n"
     ]
    }
   ],
   "source": [
    "for i in range(8, 13): # 8 included, 13 not included\n",
    "    print(i)"
   ]
  },
  {
   "cell_type": "markdown",
   "metadata": {},
   "source": [
    "Ukoliko funkciji <i>range</i> prosledimo tri argumenta, ona će prvi tumačiti kao početak, a drugi kao kraj intervala zatvorenog s leve strane. Treći argument je korak kojim će niz brojeva u ovom intervalu napredovati (aritmetički)."
   ]
  },
  {
   "cell_type": "code",
   "execution_count": 19,
   "metadata": {
    "collapsed": false
   },
   "outputs": [
    {
     "name": "stdout",
     "output_type": "stream",
     "text": [
      "10\n",
      "12\n",
      "14\n",
      "16\n",
      "18\n"
     ]
    }
   ],
   "source": [
    "for i in range(10, 20, 2):\n",
    "    print(i)"
   ]
  }
 ],
 "metadata": {
  "anaconda-cloud": {},
  "kernelspec": {
   "display_name": "Python [default]",
   "language": "python",
   "name": "python3"
  },
  "language_info": {
   "codemirror_mode": {
    "name": "ipython",
    "version": 3
   },
   "file_extension": ".py",
   "mimetype": "text/x-python",
   "name": "python",
   "nbconvert_exporter": "python",
   "pygments_lexer": "ipython3",
   "version": "3.5.2"
  }
 },
 "nbformat": 4,
 "nbformat_minor": 1
}
