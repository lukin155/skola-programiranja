{
 "cells": [
  {
   "cell_type": "markdown",
   "metadata": {},
   "source": [
    "# \"Escape\" karakter"
   ]
  },
  {
   "cell_type": "markdown",
   "metadata": {},
   "source": [
    "Pokušajte da funkcijom <i>print</i> prikažete na ekranu (odštampate) tekst koji sadrži navodnike, npr. <i>This is a \"small\" program</i>.<br />\n",
    "Probajte ovako:"
   ]
  },
  {
   "cell_type": "code",
   "execution_count": 1,
   "metadata": {
    "collapsed": false
   },
   "outputs": [
    {
     "ename": "SyntaxError",
     "evalue": "invalid syntax (<ipython-input-1-9e206a882c71>, line 1)",
     "output_type": "error",
     "traceback": [
      "\u001b[0;36m  File \u001b[0;32m\"<ipython-input-1-9e206a882c71>\"\u001b[0;36m, line \u001b[0;32m1\u001b[0m\n\u001b[0;31m    print(\"This is a \"small\" program\")\u001b[0m\n\u001b[0m                          ^\u001b[0m\n\u001b[0;31mSyntaxError\u001b[0m\u001b[0;31m:\u001b[0m invalid syntax\n"
     ]
    }
   ],
   "source": [
    "print(\"This is a \"small\" program\")"
   ]
  },
  {
   "cell_type": "markdown",
   "metadata": {},
   "source": [
    "Obratite pažnju na to kako je kod obojen. Videćete da je tekst prekinut ispred reči \"small\", a novi tekst je otpočet nakon reči \"small\". Sama reč \"small\" je van teksta i Pajton pokušava da je interpretira, što dovodi do sintaksne greške."
   ]
  },
  {
   "cell_type": "markdown",
   "metadata": {},
   "source": [
    "Silazna kosa crta (\"\\\") kao karakter ima posebno značenje u Pajtonu, kada se nalazi \"u okviru teksta\" (između navodnika). Naziva se <b><i>escape</i> karakterom</b>. Korišćenjem ovog karaktera možemo reći Pajtonu da je karakter koji sledi deo teksta, čak i ukoliko se radi o \"specijalnom\" karakteru - u ovom slučaju navodnici, karakter koji služi za označavanje početka i završetka tesksta. Na taj način između navodnika možemo imati navodnike, koji se interpretiraju kao deo teksta."
   ]
  },
  {
   "cell_type": "code",
   "execution_count": 10,
   "metadata": {
    "collapsed": false
   },
   "outputs": [
    {
     "name": "stdout",
     "output_type": "stream",
     "text": [
      "This is a \"small\" program\n"
     ]
    }
   ],
   "source": [
    "print(\"This is a \\\"small\\\" program\")"
   ]
  },
  {
   "cell_type": "markdown",
   "metadata": {},
   "source": [
    "# Obeležavanje teksta apostrofima"
   ]
  },
  {
   "cell_type": "markdown",
   "metadata": {},
   "source": [
    "Za obeležavanje teksta koji prosleđujemo funkciji <i>print</i> možemo koristiti i apostrofe, na primer:"
   ]
  },
  {
   "cell_type": "code",
   "execution_count": 11,
   "metadata": {
    "collapsed": false
   },
   "outputs": [
    {
     "name": "stdout",
     "output_type": "stream",
     "text": [
      "This is a text\n"
     ]
    }
   ],
   "source": [
    "print('This is a text')"
   ]
  },
  {
   "cell_type": "markdown",
   "metadata": {},
   "source": [
    "To nam pruža više mogućnosti da prikažemo navodnike i apostrofe."
   ]
  },
  {
   "cell_type": "markdown",
   "metadata": {},
   "source": [
    "Apostrof u tekstu označenom navodnicima:"
   ]
  },
  {
   "cell_type": "code",
   "execution_count": 12,
   "metadata": {
    "collapsed": false
   },
   "outputs": [
    {
     "name": "stdout",
     "output_type": "stream",
     "text": [
      "It's all good!\n"
     ]
    }
   ],
   "source": [
    "print(\"It's all good!\")"
   ]
  },
  {
   "cell_type": "markdown",
   "metadata": {},
   "source": [
    "Apostrof u tekstu označenom apostrofima:"
   ]
  },
  {
   "cell_type": "code",
   "execution_count": 13,
   "metadata": {
    "collapsed": false
   },
   "outputs": [
    {
     "name": "stdout",
     "output_type": "stream",
     "text": [
      "It's all good!\n"
     ]
    }
   ],
   "source": [
    "print('It\\'s all good!')"
   ]
  },
  {
   "cell_type": "markdown",
   "metadata": {},
   "source": [
    "Navodnici u tekstu označenom apostrofima:"
   ]
  },
  {
   "cell_type": "code",
   "execution_count": 14,
   "metadata": {
    "collapsed": false
   },
   "outputs": [
    {
     "name": "stdout",
     "output_type": "stream",
     "text": [
      "\"Python\" is a programming language.\n"
     ]
    }
   ],
   "source": [
    "print('\"Python\" is a programming language.')"
   ]
  },
  {
   "cell_type": "markdown",
   "metadata": {},
   "source": [
    "Navodnici u tekstu označenom navodnicima:"
   ]
  },
  {
   "cell_type": "code",
   "execution_count": 15,
   "metadata": {
    "collapsed": false
   },
   "outputs": [
    {
     "name": "stdout",
     "output_type": "stream",
     "text": [
      "\"Python\" is a programming language.\n"
     ]
    }
   ],
   "source": [
    "print(\"\\\"Python\\\" is a programming language.\")"
   ]
  },
  {
   "cell_type": "markdown",
   "metadata": {},
   "source": [
    "# Ostale upotrebe \"escape\" karaktera"
   ]
  },
  {
   "cell_type": "markdown",
   "metadata": {},
   "source": [
    "Ukoliko pokušamo da prikažemo silaznu kosu crtu (\"\\\") na sledeći način, izazvaćemo grešku:"
   ]
  },
  {
   "cell_type": "code",
   "execution_count": 16,
   "metadata": {
    "collapsed": false
   },
   "outputs": [
    {
     "ename": "SyntaxError",
     "evalue": "EOL while scanning string literal (<ipython-input-16-439ce6f6dd23>, line 1)",
     "output_type": "error",
     "traceback": [
      "\u001b[0;36m  File \u001b[0;32m\"<ipython-input-16-439ce6f6dd23>\"\u001b[0;36m, line \u001b[0;32m1\u001b[0m\n\u001b[0;31m    print(\"This is a backslash: \\\")\u001b[0m\n\u001b[0m                                   ^\u001b[0m\n\u001b[0;31mSyntaxError\u001b[0m\u001b[0;31m:\u001b[0m EOL while scanning string literal\n"
     ]
    }
   ],
   "source": [
    "print(\"This is a backslash: \\\")"
   ]
  },
  {
   "cell_type": "markdown",
   "metadata": {},
   "source": [
    "Kad god prikazujemo \"specijalne\" karaktere (poput navodnika i kose crte), koristimo \"escape\" karakter. U Pajtonu je to silazna kosa crta."
   ]
  },
  {
   "cell_type": "code",
   "execution_count": 17,
   "metadata": {
    "collapsed": false
   },
   "outputs": [
    {
     "name": "stdout",
     "output_type": "stream",
     "text": [
      "This is a backslash: \\\n"
     ]
    }
   ],
   "source": [
    "print(\"This is a backslash: \\\\\")"
   ]
  },
  {
   "cell_type": "markdown",
   "metadata": {},
   "source": [
    "Pokušajte da funkciji <i>print</i> prosledite tekst koji sadrži novi red."
   ]
  },
  {
   "cell_type": "code",
   "execution_count": 18,
   "metadata": {
    "collapsed": false
   },
   "outputs": [
    {
     "ename": "SyntaxError",
     "evalue": "EOL while scanning string literal (<ipython-input-18-a94099386333>, line 1)",
     "output_type": "error",
     "traceback": [
      "\u001b[0;36m  File \u001b[0;32m\"<ipython-input-18-a94099386333>\"\u001b[0;36m, line \u001b[0;32m1\u001b[0m\n\u001b[0;31m    print(\"First line\u001b[0m\n\u001b[0m                     ^\u001b[0m\n\u001b[0;31mSyntaxError\u001b[0m\u001b[0;31m:\u001b[0m EOL while scanning string literal\n"
     ]
    }
   ],
   "source": [
    "print(\"First line\n",
    "      Second line\")"
   ]
  },
  {
   "cell_type": "markdown",
   "metadata": {},
   "source": [
    "Ovo izaziva grešku, jer Pajton očekuje da se tekst otpočet navodnicima završi u istom redu, i to navodnicima."
   ]
  },
  {
   "cell_type": "markdown",
   "metadata": {},
   "source": [
    "\"Escape\" karakter se može koristiti i za predstavljanje novog reda:"
   ]
  },
  {
   "cell_type": "code",
   "execution_count": 19,
   "metadata": {
    "collapsed": false
   },
   "outputs": [
    {
     "name": "stdout",
     "output_type": "stream",
     "text": [
      "First line\n",
      "Second line\n"
     ]
    }
   ],
   "source": [
    "print(\"First line\\nSecond line\")"
   ]
  },
  {
   "cell_type": "markdown",
   "metadata": {},
   "source": [
    "# Trostruki navodnici"
   ]
  },
  {
   "cell_type": "markdown",
   "metadata": {},
   "source": [
    "Trostruki navodnici označavaju tekst, baš kao i navodnici i apostrofi, uz pogodnost da se između njih mogu naći svi specijalni karakteri - apostrofi, navodnici, oznake novog reda... Jedino za šta bismo morali koristiti \"escape\" karakter jesu trostruki navodnici, jer oni označavaju kraj teksta otpočetog trostrukim navodnicima."
   ]
  },
  {
   "cell_type": "code",
   "execution_count": 20,
   "metadata": {
    "collapsed": false
   },
   "outputs": [
    {
     "name": "stdout",
     "output_type": "stream",
     "text": [
      "First line.\n",
      "Second line.\n",
      "All kinds of \"special\" characters here! Even backslashes! \\ \\ \\\\ \n"
     ]
    }
   ],
   "source": [
    "print(\"\"\"First line.\n",
    "Second line.\n",
    "All kinds of \"special\" characters here! Even backslashes! \\ \\\\ \\\\\\ \"\"\")"
   ]
  },
  {
   "cell_type": "markdown",
   "metadata": {},
   "source": [
    "# Promenljive\n",
    "Sledi jednostavan program za sabiranje brojeva, koji koristi promenljive za smeštanje određenih vrednosti."
   ]
  },
  {
   "cell_type": "code",
   "execution_count": 21,
   "metadata": {
    "collapsed": false
   },
   "outputs": [
    {
     "name": "stdout",
     "output_type": "stream",
     "text": [
      "8\n"
     ]
    }
   ],
   "source": [
    "a = 3\n",
    "b = 5\n",
    "c = a + b\n",
    "print(c)"
   ]
  },
  {
   "cell_type": "markdown",
   "metadata": {},
   "source": [
    "Probajte da napišete program koji na osnovu zadatog poluprečnika računa obim i površinu kruga. Vrednost poluprečnika zadajte na početku programa, a za vrednost broja pi uzmite aproksimaciju 3.14. Program bi trebalo na ekranu da prikaže rezultat.\n",
    "<br /><br />\n",
    "Program bi mogao da izgleda ovako:"
   ]
  },
  {
   "cell_type": "code",
   "execution_count": 22,
   "metadata": {
    "collapsed": false
   },
   "outputs": [
    {
     "name": "stdout",
     "output_type": "stream",
     "text": [
      "Circuference is:\n",
      "31.400000000000002\n",
      "Area is:\n",
      "78.5\n"
     ]
    }
   ],
   "source": [
    "r = 5\n",
    "C = 2 * r * 3.14\n",
    "A = r * r * 3.14\n",
    "print(\"Circuference is:\")\n",
    "print(C)\n",
    "print(\"Area is:\")\n",
    "print(A)"
   ]
  },
  {
   "cell_type": "markdown",
   "metadata": {},
   "source": [
    "Promenićemo postojeći program tako da za vrednost broja pi uzima broj 3.14159. Ukoliko želimo da promenimo aproksimaciju broja pi, moramo to uraditi na dva mesta - na mestu gde se računa obim i na mestu gde se računa površina. U velikim programima, može se desiti da neku vrednost menjamo i na desetinama mesta. Ovo je <b>loša programerska praksa</b>, jer je naporno uvek menjati brojeve na više mesta, a i na taj način je lakše napraviti grešku. Može se desiti da brojeve promenimo na nekim, a ne na svim mestima, pa da prikažemo pogrešan rezultat."
   ]
  },
  {
   "cell_type": "markdown",
   "metadata": {},
   "source": [
    "Ukoliko koristimo promenljive, izbeći ćemo ovaj problem. Pored toga, dodaćemo komentare, kako bi program bio čitljiviji. Još jedna bitna stvar koja značajno doprinosi čitljivosti programa jesu opisna imena promenljivih. Umesto promenljivih poput <i>r</i>, <i>C</i>, <i>A</i>, treba koristiti promenljive poput <i>radius</i>, <i>circumference</i>, <i>area</i>, kako bi se iz samog imena promenljive moglo zaključiti čemu ona služi i kako se koristi u programu."
   ]
  },
  {
   "cell_type": "code",
   "execution_count": 32,
   "metadata": {
    "collapsed": false
   },
   "outputs": [
    {
     "name": "stdout",
     "output_type": "stream",
     "text": [
      "The circumference is:\n",
      "31.4159\n",
      "\n",
      "\n",
      "The area is:\n",
      "78.53975\n"
     ]
    }
   ],
   "source": [
    "# The radius of the circle\n",
    "radius = 5\n",
    "\n",
    "# The value of the number pi, used throughout the program.\n",
    "# If we want to use another value for pi, we only need to change it here\n",
    "pi = 3.14159\n",
    "\n",
    "# The circumference of the circle\n",
    "circumference = 2 * radius * pi\n",
    "\n",
    "# The area of the circle\n",
    "area = radius * radius * pi\n",
    "\n",
    "# Print the result\n",
    "print(\"The circumference is:\")\n",
    "print(circumference)\n",
    "print(\"\\n\")\n",
    "print(\"The area is:\")\n",
    "print(area)"
   ]
  },
  {
   "cell_type": "markdown",
   "metadata": {},
   "source": [
    "## Operator dodeljivanja (asssignment operator)"
   ]
  },
  {
   "cell_type": "markdown",
   "metadata": {},
   "source": [
    "U Pajtonu, znak jednako (\"=\") ima drugačije značenje nego u matematici. Dok se u matematici koristi za označavanje jednakosti leve i desne strane, u Pajtonu služi za smeštanje vrednosti u promenljivu. Levo od operatora se nalazi promenljiva koja će sadržati vrednost, a desno od operatora se može naći literal (npr. 2, 3.14, \"some string\"), promenljiva, matematička operacija, funkcija koja vraća vrednost itd."
   ]
  },
  {
   "cell_type": "markdown",
   "metadata": {},
   "source": [
    "Napisaćemo program za zamenu vrednosti dve promenljive (a i b). Na početku ćemo im dodeliti 2 različite vrednosti, a na kraju programa prikazati ih istim redosledom (a, b)."
   ]
  },
  {
   "cell_type": "markdown",
   "metadata": {},
   "source": [
    "Naivni pristup bi mogao izgledati ovako."
   ]
  },
  {
   "cell_type": "code",
   "execution_count": 1,
   "metadata": {
    "collapsed": false
   },
   "outputs": [
    {
     "name": "stdout",
     "output_type": "stream",
     "text": [
      "a = 3\n",
      "b = 3\n"
     ]
    }
   ],
   "source": [
    "# Declare two variables\n",
    "a = 2\n",
    "b = 3\n",
    "\n",
    "# Switch the values\n",
    "a = b\n",
    "b = a\n",
    "\n",
    "# Print new values\n",
    "print(\"a = %d\" % a)\n",
    "print(\"b = %d\" % b)"
   ]
  },
  {
   "cell_type": "markdown",
   "metadata": {},
   "source": [
    "Ovaj pristup je loš, jer smo dodelivši promenljivoj a vrednost promenljive b (3) bespovratno izgubili staru vrednost promenljive a (2). Kada smo zatim promenljivoj b dodelili vrednost promenljive a, promenljiva a je već imala novu vrenost (3="
   ]
  },
  {
   "cell_type": "markdown",
   "metadata": {},
   "source": [
    "Sledi bolji pristup za zamenu vrendosti dveju promenljivih."
   ]
  },
  {
   "cell_type": "code",
   "execution_count": 2,
   "metadata": {
    "collapsed": false
   },
   "outputs": [
    {
     "name": "stdout",
     "output_type": "stream",
     "text": [
      "a = 3\n",
      "b = 2\n"
     ]
    }
   ],
   "source": [
    "# Declare two variables\n",
    "a = 2\n",
    "b = 3\n",
    "\n",
    "# Switch the values\n",
    "tmp = a\n",
    "a = b\n",
    "b = tmp\n",
    "\n",
    "# Print new values\n",
    "print(\"a = %d\" % a)\n",
    "print(\"b = %d\" % b)"
   ]
  },
  {
   "cell_type": "markdown",
   "metadata": {},
   "source": [
    "# Operator za formatiranje stringa"
   ]
  },
  {
   "cell_type": "markdown",
   "metadata": {},
   "source": [
    "Izmenićemo prethodni program tako da u dve linije prikazuje nešto poput sledećeg teksta:<br /><br />\n",
    "\n",
    "<i>The circle radius is 5 and pi is 3.141590.<br />\n",
    "The circumference is 31.415900 and the area is 78.539750.</i><br/><br />\n",
    "\n",
    "Svaki poziv funkcije <i>print</i> prikazuje tekst u zasebnom redu. Ovo nam onemogućava da tekst i rezultat prikažemo u istom redu. Korišćenjem operatora za formatiranje stringa možemo prevazići ovo ograničenje.<br /><br />\n",
    "\n",
    "Kad se koristi nad brojevima, znak % odgovara operatoru modulusa, ili ostatka pri deljenju. Kad se koristi nad tekstualnim podacima (<i>stringovima</i>), znak % označava operator formatiranja stringa, i služi za dodavanje brojeva, teksta ili drugih odgovarajućih podataka u već postojeći string (tekst)."
   ]
  },
  {
   "cell_type": "code",
   "execution_count": 23,
   "metadata": {
    "collapsed": false
   },
   "outputs": [
    {
     "name": "stdout",
     "output_type": "stream",
     "text": [
      "The circle radius is 5 and pi is 3.141590.\n",
      "The circumference is 31.415900 and the area is 78.539750.\n"
     ]
    }
   ],
   "source": [
    "# The radius of the circle\n",
    "radius = 5\n",
    "\n",
    "# The value of the number pi, used throughout the program.\n",
    "# If we want to use another value for pi, we only need to change it here\n",
    "pi = 3.14159\n",
    "\n",
    "# The circumference of the circle\n",
    "circumference = 2 * radius * pi\n",
    "\n",
    "# The area of the circle\n",
    "area = radius * radius * pi\n",
    "\n",
    "# Print the input and the result\n",
    "print(\"The circle radius is %d and pi is %f.\" % (radius, pi))\n",
    "print(\"The circumference is %f and the area is %f.\" % (circumference, area) )"
   ]
  },
  {
   "cell_type": "markdown",
   "metadata": {},
   "source": [
    "Za dodavanje celih brojeva u string, koristimo oznaku %d. Za dodavanje razlomljenih brojeva, koristimo oznaku %f. Postoje i druge oznake, poput oznake %s, koja se koristi za dodavanje stringova u string. Na primer:"
   ]
  },
  {
   "cell_type": "code",
   "execution_count": 24,
   "metadata": {
    "collapsed": false
   },
   "outputs": [
    {
     "name": "stdout",
     "output_type": "stream",
     "text": [
      "Hi! My name is John Smith. How are you?\n"
     ]
    }
   ],
   "source": [
    "name = \"John Smith\"\n",
    "print(\"Hi! My name is %s. How are you?\" % name)"
   ]
  },
  {
   "cell_type": "markdown",
   "metadata": {},
   "source": [
    "# Tipovi podataka u Pajtonu"
   ]
  },
  {
   "cell_type": "markdown",
   "metadata": {},
   "source": [
    "Do sada smo uglavnom koristili tip podataka koji se naziva <i>string</i>. Stringovi u Pajtonu služe za prikazivanje teksta, koji može sadržati slova, cifre, interpunkcijske znake itd. Uglavnom se koristi za komunikaciju sa korisnikom. Pajton ga prepoznaje zahvaljujući navodnicima, apostrofima, ili trostrukim apostrofima, kao što smo videli u prethodnim primerima."
   ]
  },
  {
   "cell_type": "markdown",
   "metadata": {},
   "source": [
    "Pored stringova, postoje i tipovi koji služe za prikazivanje brojeva. U prethodnim primerima smo koristili celobrojni tip (<i>integer</i>) i razlomljeni tip (<i>float</i>). Od engleskih naziva potiču i njihovi formati koji se koriste u kombinaciji s operatorom formatiranja stringa - %d za celobrojni tip (d od <i>decimal</i>) i %f (f od <i>float</i>)."
   ]
  },
  {
   "cell_type": "markdown",
   "metadata": {},
   "source": [
    "Probajte da prikažete celobrojni tip koristeći format razlomljenog tipa i obrnuto. Pajton će automatski uraditi <i>konverziju tipa podataka</i> u odgovarajući tip. Konverzijom se može izgubiti deo informacije, na primer, konverzijom razlomljenog broja u celobrojni tip, dobićemo zaokružen broj kao rezultat."
   ]
  },
  {
   "cell_type": "code",
   "execution_count": 27,
   "metadata": {
    "collapsed": false
   },
   "outputs": [
    {
     "name": "stdout",
     "output_type": "stream",
     "text": [
      "This is an integer: 3.000000\n"
     ]
    }
   ],
   "source": [
    "print(\"This is an integer: %f\" % 3)"
   ]
  },
  {
   "cell_type": "code",
   "execution_count": 28,
   "metadata": {
    "collapsed": false
   },
   "outputs": [
    {
     "name": "stdout",
     "output_type": "stream",
     "text": [
      "This is a float: 3\n"
     ]
    }
   ],
   "source": [
    "print(\"This is a float: %d\" % 3.35)"
   ]
  },
  {
   "cell_type": "markdown",
   "metadata": {},
   "source": [
    "## Neki od tipova podataka u Pajtonu\n",
    "* stringovi\n",
    "* celi brojevi (integer)\n",
    "* razlomljeni brojevi (float)\n",
    "* logički tip (boolean)"
   ]
  },
  {
   "cell_type": "markdown",
   "metadata": {},
   "source": [
    "Za razliku od programskih jezika kao što je C, koji koriste statičke tipove, Pajton koristi dinamičke tipove. To znači da promenljiva nije predodređena da sadrži samo jedan tip, već se u nju može smestiti objekat bilo kog tipa, jer Pajton informacije o tipu čuva uz objekat, a ne uz promenljivu (kao što to radi C)."
   ]
  },
  {
   "cell_type": "markdown",
   "metadata": {},
   "source": [
    "Informaciju o tipu podatka koji nosi promenljiva možemo dobiti korišćenjem funkcije <i>type</i>."
   ]
  },
  {
   "cell_type": "code",
   "execution_count": 29,
   "metadata": {
    "collapsed": false
   },
   "outputs": [
    {
     "name": "stdout",
     "output_type": "stream",
     "text": [
      "This is a string.\n",
      "<class 'str'>\n",
      "\n",
      "\n",
      "3\n",
      "<class 'int'>\n",
      "\n",
      "\n",
      "3.5\n",
      "<class 'float'>\n",
      "\n",
      "\n",
      "False\n",
      "<class 'bool'>\n"
     ]
    }
   ],
   "source": [
    "# A string\n",
    "my_variable = \"This is a string.\"\n",
    "print(my_variable)\n",
    "print(type(my_variable))\n",
    "print(\"\\n\")\n",
    "\n",
    "# An integer\n",
    "my_variable = 3\n",
    "print(my_variable)\n",
    "the_type = type(my_variable)\n",
    "print(the_type)\n",
    "print(\"\\n\")\n",
    "\n",
    "# A float\n",
    "my_variable = 3.5\n",
    "print(my_variable)\n",
    "print(type(my_variable))\n",
    "print(\"\\n\")\n",
    "\n",
    "# A boolean\n",
    "my_variable = 3 > 5\n",
    "print(my_variable)\n",
    "print(type(my_variable))"
   ]
  },
  {
   "cell_type": "markdown",
   "metadata": {},
   "source": [
    "## Ponašanje znakova i operatora s različitim tipovima podataka"
   ]
  },
  {
   "cell_type": "markdown",
   "metadata": {},
   "source": [
    "Različiti znakovi označavaju različite operatore, u zavisnosti od tipa podataka. Na primer, procenat (%) kod celih brojeva označava ostatak pri deljenju, a kod stringova operator formatiranja stringa."
   ]
  },
  {
   "cell_type": "markdown",
   "metadata": {},
   "source": [
    "Zbir dva cela broja je ceo broj."
   ]
  },
  {
   "cell_type": "code",
   "execution_count": 40,
   "metadata": {
    "collapsed": false
   },
   "outputs": [
    {
     "name": "stdout",
     "output_type": "stream",
     "text": [
      "8\n",
      "<class 'int'>\n"
     ]
    }
   ],
   "source": [
    "# Adding two integers\n",
    "sum_of_integers = 3 + 5\n",
    "print(sum_of_integers)\n",
    "print(type(sum_of_integers))"
   ]
  },
  {
   "cell_type": "markdown",
   "metadata": {},
   "source": [
    "Zbir celog broja i razlomljenog broja je razlomljen broj. Prilikom operacija koje uključuju celobrojne i razlomljene brojeve, Pajton implicitno konvertuje celi broj u razlomljeni (npr. 3 u 3.0) i zatim ih sabira. Konverzija je neophodna jer je operacija sabiranja definisana samo nad podacima istog tipa. Kada bi Pajton u ovoj situaciji konvertovao razlomljen broj u ceo broj, došlo bi do zaokruživanja, što bi dalje vodilo gubljenju preciznosti (npr. 5.3 u 5), pa bi 3 + 5.3 bilo jednako 8."
   ]
  },
  {
   "cell_type": "code",
   "execution_count": 41,
   "metadata": {
    "collapsed": false
   },
   "outputs": [
    {
     "name": "stdout",
     "output_type": "stream",
     "text": [
      "8.3\n",
      "<class 'float'>\n"
     ]
    }
   ],
   "source": [
    "# Adding a float to an integer\n",
    "sum_of_int_and_float = 3 + 5.3\n",
    "print(sum_of_int_and_float)\n",
    "print(type(sum_of_int_and_float))"
   ]
  },
  {
   "cell_type": "markdown",
   "metadata": {},
   "source": [
    "Znak \"%\" kod brojeva označava ostatak pri deljenju. Kod stringova, ovaj znak označava operator formatiranja stringa."
   ]
  },
  {
   "cell_type": "code",
   "execution_count": 42,
   "metadata": {
    "collapsed": false
   },
   "outputs": [
    {
     "name": "stdout",
     "output_type": "stream",
     "text": [
      "2.1000000000000014\n",
      "This is a number: 3.140000\n"
     ]
    }
   ],
   "source": [
    "print(32.1 % 10)\n",
    "print(\"This is a number: %f\" % 3.14)"
   ]
  },
  {
   "cell_type": "markdown",
   "metadata": {},
   "source": [
    "Znak \"+\" kod brojeva označava sabiranje, a kod stringova konkatenaciju (pripajanje drugog stringa prvom)."
   ]
  },
  {
   "cell_type": "code",
   "execution_count": 44,
   "metadata": {
    "collapsed": false
   },
   "outputs": [
    {
     "name": "stdout",
     "output_type": "stream",
     "text": [
      "21\n",
      "\n",
      "\n",
      "My name is John Smith\n"
     ]
    }
   ],
   "source": [
    "# Add numbers\n",
    "number1 = 10\n",
    "number2 = 11\n",
    "print(number1 + number2)\n",
    "print(\"\\n\")\n",
    "\n",
    "# Concatenate strings\n",
    "str1 = \"My name is \"\n",
    "str2 = \"John Smith\"\n",
    "print(str1 + str2)"
   ]
  },
  {
   "cell_type": "markdown",
   "metadata": {},
   "source": [
    "# Interakcija s korisnikom (user input)\n"
   ]
  },
  {
   "cell_type": "code",
   "execution_count": 36,
   "metadata": {
    "collapsed": false
   },
   "outputs": [
    {
     "name": "stdout",
     "output_type": "stream",
     "text": [
      "What is your name?\n",
      "John\n",
      "Hello, John!\n"
     ]
    }
   ],
   "source": [
    "name = input(\"What is your name?\\n\")\n",
    "print(\"Hello, %s!\" % name)"
   ]
  },
  {
   "cell_type": "code",
   "execution_count": 45,
   "metadata": {
    "collapsed": false
   },
   "outputs": [
    {
     "name": "stdout",
     "output_type": "stream",
     "text": [
      "Please enter the circle radius: 5\n",
      "The circle radius is 5 and pi is 3.141590.\n",
      "The circumference is 31.415900 and the area is 78.539750.\n"
     ]
    }
   ],
   "source": [
    "# The radius of the circle\n",
    "radius = float(input(\"Please enter the circle radius: \"))\n",
    "\n",
    "# The value of the number pi, used throughout the program.\n",
    "# If we want to use another value for pi, we only need to change it here\n",
    "pi = 3.14159\n",
    "\n",
    "# The circumference of the circle\n",
    "circumference = 2 * radius * pi\n",
    "\n",
    "# The area of the circle\n",
    "area = radius * radius * pi\n",
    "\n",
    "# Print the input and the result\n",
    "print(\"The circle radius is %f and pi is %f.\" % (radius, pi))\n",
    "print(\"The circumference is %f and the area is %f.\" % (circumference, area) )"
   ]
  }
 ],
 "metadata": {
  "anaconda-cloud": {},
  "kernelspec": {
   "display_name": "Python [default]",
   "language": "python",
   "name": "python3"
  },
  "language_info": {
   "codemirror_mode": {
    "name": "ipython",
    "version": 3
   },
   "file_extension": ".py",
   "mimetype": "text/x-python",
   "name": "python",
   "nbconvert_exporter": "python",
   "pygments_lexer": "ipython3",
   "version": "3.5.2"
  }
 },
 "nbformat": 4,
 "nbformat_minor": 1
}
