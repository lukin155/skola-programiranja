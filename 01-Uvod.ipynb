{
 "cells": [
  {
   "cell_type": "markdown",
   "metadata": {},
   "source": [
    "<br /><i><a href=\"https://xkcd.com/353/\">It's a whole new world up here!</a></i><br />"
   ]
  },
  {
   "cell_type": "markdown",
   "metadata": {},
   "source": [
    "# Instalacija Pajtona\n",
    "\n",
    "Sa Pajtonovog zvaničnog sajta može se preuzeti Pajton (Python) interpretator. Posetite stranicu https://www.python.org/downloads/ i preuzmite najnoviju verziju Pajtona.\n",
    "\n",
    "Kada instalirate Pajton, pokrenite komandnu liniju Vindovsa (Windows Command Line). Najlakše je kliknuti na Start i otkucati \"cmd\". Ovako izgleda prozor komandne linije:\n",
    "<img src=\"http://www.computerhope.com/issues/pictures/dos.jpg\">\n",
    "\n",
    "U komandnoj liniji otkucajte \"python\", i - u Pajtonu ste!\n",
    "\n",
    "Ukoliko komandna linija ne prepoznaje reč \"python\", morate ga dodati u putanju (PATH). Uputstvo za dodavanje možete naći ovde: http://stackoverflow.com/questions/21372637/installing-python-2-7-on-windows-8. Da bi komandna linija učitala nove \"putanje\", morate pokrenuti novu instancu komandne linije (onu već otvorenu možete zatvoriti).\n",
    "\n",
    "Trebalo bi da vidite nešto ovako:<br />\n",
    "Python 3.5.2 |Anaconda 4.2.0 (64-bit)| (default, Jul  5 2016, 11:41:13) [MSC v.1900 64 bit (AMD64)] on win32\n",
    "Type \"help\", \"copyright\", \"credits\" or \"license\" for more information.\n",
    "\n",
    "Komandna linija će sada pokazivati karaktere \">>>\" ispred treperećeg pokazivača, što znači da Pajton iščekuje komande."
   ]
  },
  {
   "cell_type": "markdown",
   "metadata": {},
   "source": [
    "# \"Zdravo, svete\" (Hello World) u Pajtonu\n",
    "Otkucajte u Pajtonu sledeću komandu (ovde možete videti i komandu i njen izlaz):"
   ]
  },
  {
   "cell_type": "code",
   "execution_count": 7,
   "metadata": {
    "collapsed": false
   },
   "outputs": [
    {
     "name": "stdout",
     "output_type": "stream",
     "text": [
      "Hello, World!\n"
     ]
    }
   ],
   "source": [
    "print(\"Hello, World!\")"
   ]
  },
  {
   "cell_type": "markdown",
   "metadata": {},
   "source": [
    "Funkcija <i>print</i> služi za prikazivanje teksta na ekranu. Probajte da ispišete neku drugu poruku. Bitno je da tekst koji prosleđujete funkciji <i>print</i> bude pod navodnicima!"
   ]
  },
  {
   "cell_type": "markdown",
   "metadata": {},
   "source": [
    "# Pajton 2.7 i Pajton 3\n",
    "Programski jezici se, kao i softverski paketi, unapređuju, tako da s vremena na vreme izlaze nove verzije. Kod većine programskih jezika, uobičajeno je da se održava kompatibilnost novih verzija sa prethodnim verzijama (eng. backwards compatibility). To znači da i pored svih unapređenja koje donosi, nova verzija ne sme promeniti postojeću funkcionalnost. Cilj ovog koncepta je da se korisnicima omogući da koriste novu verziju i njene prednosti, a da ne moraju da u trenutku prelaska menjaju svoj postojeći <i>kod</i>.\n",
    "<br />\n",
    "Kada je izašla verzija 3 Pajtona, odlučeno je da se kompatibilnost sa prethodnim verzijama prekrši. Iako je većina unapređenja koje Pajton 3 donosi prebačena (<i>portovana</i>) na verzije 2.6.x i 2.7.x, kompatibilnost ipak ne postoji između ovih verzija. Trenutni plan je da se održavanje verzija 2.6.x i 2.7.x nastavi do 2020. godine, zbog znatnog broja korisnika koji ih i dalje upotrebljavaju."
   ]
  },
  {
   "cell_type": "markdown",
   "metadata": {},
   "source": [
    "# Editor za kod\n",
    "Za Pajton, kao i za ostale programske jezike, može se koristiti bilo koji editor običnog teksta (eng. plain text editor). Jedna od dobrih preporuka je <a href=\"https://notepad-plus-plus.org/\">Notepad++</a>. Jednostavan je za korišćenje i ne opterećuje računar, a obuhvata mnogo korisnih funkcionalnosti. Jedna od bitnih za početnike je označavanje sintakse bojama (eng. syntax highlighting). Pajton je samo jedan od mnogo jezika za koje je u editoru <i>Notepad++</i> podržano označavanje sintakse bojama."
   ]
  }
 ],
 "metadata": {
  "anaconda-cloud": {},
  "kernelspec": {
   "display_name": "Python [default]",
   "language": "python",
   "name": "python3"
  },
  "language_info": {
   "codemirror_mode": {
    "name": "ipython",
    "version": 3
   },
   "file_extension": ".py",
   "mimetype": "text/x-python",
   "name": "python",
   "nbconvert_exporter": "python",
   "pygments_lexer": "ipython3",
   "version": "3.5.2"
  }
 },
 "nbformat": 4,
 "nbformat_minor": 1
}
