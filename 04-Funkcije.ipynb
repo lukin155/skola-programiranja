{
 "cells": [
  {
   "cell_type": "markdown",
   "metadata": {},
   "source": [
    "Napisaćemo program koji s tastature učitava četiri broja, zatim im menja vrednosti tako da redosled bude suprotan i ispisuje nove vrednosti na ekranu."
   ]
  },
  {
   "cell_type": "code",
   "execution_count": 1,
   "metadata": {
    "collapsed": false
   },
   "outputs": [
    {
     "name": "stdout",
     "output_type": "stream",
     "text": [
      "Enter the first number: 10\n",
      "Enter the second number: 20\n",
      "Enter the third number: 30\n",
      "Enter the fourth number: 40\n",
      "\n",
      "After switching the values, here is what we have in our variables.\n",
      "The first number: 40\n",
      "The second number: 30\n",
      "The third number: 20\n",
      "The fourth number: 10\n"
     ]
    }
   ],
   "source": [
    "# Read 4 numbers from the keyboard\n",
    "first = input(\"Enter the first number: \")\n",
    "first = int(first)\n",
    "\n",
    "second = input(\"Enter the second number: \")\n",
    "second = int(second)\n",
    "\n",
    "third = input(\"Enter the third number: \")\n",
    "third = int(third)\n",
    "\n",
    "fourth = input(\"Enter the fourth number: \")\n",
    "fourth = int(fourth)\n",
    "\n",
    "# Switch the values\n",
    "tmp = first\n",
    "first = fourth\n",
    "fourth = tmp\n",
    "tmp = second\n",
    "second = third\n",
    "third = tmp\n",
    "\n",
    "# Print the new values\n",
    "output_message_template = \"\"\"\n",
    "After switching the values, here is what we have in our variables.\n",
    "The first number: %d\n",
    "The second number: %d\n",
    "The third number: %d\n",
    "The fourth number: %d\"\"\"\n",
    "\n",
    "print(output_message_template % (first, second, third, fourth))"
   ]
  },
  {
   "cell_type": "markdown",
   "metadata": {},
   "source": [
    "Napisaćemo program koji s tastature učitava poluprečnik kruga i računa obim i površinu, kako tog kruga, tako i kruga čiji je poluprečnik za 1 veći."
   ]
  },
  {
   "cell_type": "code",
   "execution_count": 7,
   "metadata": {
    "collapsed": false
   },
   "outputs": [
    {
     "name": "stdout",
     "output_type": "stream",
     "text": [
      "radius = 5\n",
      "The smaller circle circumference is 31.400000 and area is 78.500000.\n",
      "The larger circle circumference is 37.680000 and area is 113.040000.\n"
     ]
    }
   ],
   "source": [
    "# The pi constant\n",
    "pi = 3.14\n",
    "\n",
    "# Read the radius\n",
    "radius = float(input(\"radius = \"))\n",
    "radius_large = radius + 1\n",
    "\n",
    "# \"Smaller\" circle circumference and area \n",
    "circumference = 2 * radius * pi\n",
    "area = radius * radius * pi\n",
    "\n",
    "# \"Larger\" circle circumference and area\n",
    "circumference_large = 2 * radius_large * pi\n",
    "area_large = radius_large * radius_large * pi\n",
    "\n",
    "# Print the values\n",
    "print(\"The smaller circle circumference is %f and area is %f.\" % (circumference, area))\n",
    "print(\"The larger circle circumference is %f and area is %f.\" % (circumference_large, area_large))"
   ]
  },
  {
   "cell_type": "markdown",
   "metadata": {},
   "source": [
    "Funkcija u Pajtonu je blok organizovanog koda koji izvršava određenu akciju i može se koristiti na više mesta bez ponavljanja čitavog bloka, referenciranjem imena funkcije."
   ]
  },
  {
   "cell_type": "markdown",
   "metadata": {},
   "source": [
    "Pajton sadrži \"ugrađene\" funkcije, poput:<br />\n",
    "* <i>print</i> - funkcija za prikaz teksta na ekranu\n",
    "* <i>input</i> - služi za čitanje korisničkog unosa s tastature\n",
    "* <i>int</i>, <i>float</i> - služe za konverziju u celi i razlomljeni brojni tip, respektivno"
   ]
  },
  {
   "cell_type": "markdown",
   "metadata": {},
   "source": [
    "Pored \"ugrađenih\" funkcija, koje su nam na raspolaganju, Pajton nam omogućava da definišemo i svoje funkcije. Napisaćemo funkciju koja prilikom svakog poziva ispisuje nekoliko redova teksta, i pozvati je nekoliko puta. Za definisanje funkcije koristi se ključna reč def, praćena imenom funkcije, zagradama (u kojima se mogu naći parametri funkcije) i znakom dve tačke (:), koji je praćen telom funkcije. Telo funkcije je kod koji će se izvršiti prilikom svakog njenog poziva. Sav kod koji čini telo funkcije mora se naći u novom redu nakon dve tačke, uvučen za jedan tabulator (TAB). Kada hoćemo da završimo telo funkcije i nastavimo da unosimo kod programa (u kome možemo pozvati, odnosno izvršiti svoju funkciju), vratićemo se nivo unazad (tekst neće više biti uvučen)."
   ]
  },
  {
   "cell_type": "code",
   "execution_count": 8,
   "metadata": {
    "collapsed": false
   },
   "outputs": [
    {
     "name": "stdout",
     "output_type": "stream",
     "text": [
      "See my function in action!\n",
      "\n",
      "\n",
      "Hello!\n",
      "This is my function.\n",
      "It just prints out a few lines of text.\n",
      "Good bye!\n",
      "Hello!\n",
      "This is my function.\n",
      "It just prints out a few lines of text.\n",
      "Good bye!\n",
      "Hello!\n",
      "This is my function.\n",
      "It just prints out a few lines of text.\n",
      "Good bye!\n"
     ]
    }
   ],
   "source": [
    "# A simple function that just prints a few lines of text\n",
    "def print_some_text():\n",
    "    print(\"Hello!\")\n",
    "    print(\"This is my function.\")\n",
    "    print(\"It just prints out a few lines of text.\")\n",
    "    print(\"Good bye!\")\n",
    "\n",
    "# A test for our function\n",
    "print(\"See my function in action!\\n\\n\")\n",
    "print_some_text()\n",
    "print_some_text()\n",
    "print_some_text()"
   ]
  },
  {
   "cell_type": "markdown",
   "metadata": {},
   "source": [
    "Funkcije u Pajtonu mogu imati argumente. Oni se u definiciji nalaze između zagrada, odvojeni zapetama ukoliko ih ima više od jednog. U telu funkcije se koriste kao promenljive, s tim što imaju vrednost koja im je prosleđena prilikom poziva funkcije."
   ]
  },
  {
   "cell_type": "markdown",
   "metadata": {},
   "source": [
    "Napisaćemo funkciju koja ima dva argumenta - ime i prezime. Zadatak funkcije će biti da pozdravi korisnika po imenu i prezimenu, koristeći formatiranje stringova. Ime i prezime ćemo u programu učitati s tastature. Pokrenite program više puta i unesite različite vrednosti imena i prezimena."
   ]
  },
  {
   "cell_type": "code",
   "execution_count": 2,
   "metadata": {
    "collapsed": false
   },
   "outputs": [
    {
     "name": "stdout",
     "output_type": "stream",
     "text": [
      "What is your first name?\n",
      "John\n",
      "What is your last name?\n",
      "Smith\n",
      "Hello, John Smith! How are you?\n"
     ]
    }
   ],
   "source": [
    "# A function that greets the user, mentioning their first and last name\n",
    "def greet_user(firstname, lastname):\n",
    "    greeting = \"Hello, %s %s! How are you?\" % (firstname, lastname)\n",
    "    print(greeting)\n",
    "\n",
    "# Read user's first and last name\n",
    "# No need to convert the input, since the input function returns a string\n",
    "first = input(\"What is your first name?\\n\")\n",
    "last = input(\"What is your last name?\\n\")\n",
    "\n",
    "# Call our greeting function\n",
    "greet_user(first, last)"
   ]
  },
  {
   "cell_type": "markdown",
   "metadata": {},
   "source": [
    "Kao što mogu imati argumente (ulazne vrednosti), funkcije mogu imate i povratne vrednosti (rezultat). Napisaćemo funkciju za obim kruga i funkciju za površinu kruga. Za povratne vrednosti, koristi se ključna reč <i>return</i>. Iza ključne reči <i>return</i> može se naći literal, promenljiva, izraz..."
   ]
  },
  {
   "cell_type": "code",
   "execution_count": 10,
   "metadata": {
    "collapsed": false
   },
   "outputs": [
    {
     "name": "stdout",
     "output_type": "stream",
     "text": [
      "radius = 5\n",
      "Circumference = 31.400000\n",
      "Area = 78.500000\n"
     ]
    }
   ],
   "source": [
    "# The pi constant\n",
    "pi = 3.14\n",
    "\n",
    "# Circle circumference\n",
    "def circle_circumference(radius):\n",
    "    circumference = 2 * radius * pi\n",
    "    return circumference\n",
    "    \n",
    "# Circle area\n",
    "def circle_area(radius):\n",
    "    area = radius * radius * pi\n",
    "    return area\n",
    "\n",
    "# Get the radius from user and calculate the circumference and the area\n",
    "r = float(input(\"radius = \")) # we need to convert the input (a string) to float\n",
    "C = circle_circumference(r)\n",
    "A = circle_area(r)\n",
    "\n",
    "print(\"Circumference = %f\" % C)\n",
    "print(\"Area = %f\" % A)"
   ]
  },
  {
   "cell_type": "markdown",
   "metadata": {},
   "source": [
    "Na početku ove lekcije, napisali smo program koji kao ulaz uzima poluprečnik kruga, a zatim računa obim i površinu tog kruga i kruga čiji je poluprečnik za 1 veći. Napišimo isti program, bez ponavljanja obrazaca za obim i površinu (bez duplikacije tih delova koda), koristeći funkcije."
   ]
  },
  {
   "cell_type": "code",
   "execution_count": 11,
   "metadata": {
    "collapsed": false
   },
   "outputs": [
    {
     "name": "stdout",
     "output_type": "stream",
     "text": [
      "radius = 5\n",
      "The smaller circle circumference is 31.400000 and area is 78.500000.\n",
      "The larger circle circumference is 37.680000 and area is 113.040000.\n"
     ]
    }
   ],
   "source": [
    "# The pi constant\n",
    "pi = 3.14\n",
    "\n",
    "# Circle circumference\n",
    "def circle_circumference(radius):\n",
    "    circumference = 2 * radius * pi\n",
    "    return circumference\n",
    "    \n",
    "# Circle area\n",
    "def circle_area(radius):\n",
    "    area = radius * radius * pi\n",
    "    return area\n",
    "\n",
    "# Read the radius\n",
    "radius = float(input(\"radius = \"))\n",
    "radius_large = radius + 1\n",
    "\n",
    "# \"Smaller\" circle circumference and area \n",
    "circumference = circle_circumference(radius)\n",
    "area = circle_area(radius)\n",
    "\n",
    "# \"Larger\" circle circumference and area\n",
    "circumference_large = circle_circumference(radius_large)\n",
    "area_large = circle_area(radius_large)\n",
    "\n",
    "# Print the values\n",
    "print(\"The smaller circle circumference is %f and area is %f.\" % (circumference, area))\n",
    "print(\"The larger circle circumference is %f and area is %f.\" % (circumference_large, area_large))"
   ]
  },
  {
   "cell_type": "markdown",
   "metadata": {},
   "source": [
    "Ukoliko rezultat funkcije nije jedna, već više od jedne vrednosti, koristimo sličan koncept kao kod formatiranja stringa, kada u string umećemo više vrednosti. Koristi se poseban tip podataka u Pajtonu - uređena N-torka (<i>tuple</i>). Napisaćemo funkciju koja računa kvadrat i treći stepen broja."
   ]
  },
  {
   "cell_type": "code",
   "execution_count": 1,
   "metadata": {
    "collapsed": false
   },
   "outputs": [
    {
     "name": "stdout",
     "output_type": "stream",
     "text": [
      "square: 100\n",
      "cube: 1000\n"
     ]
    }
   ],
   "source": [
    "def square_and_cube(a):\n",
    "    square = a * a\n",
    "    cube = square * a\n",
    "    return (square, cube)\n",
    "    \n",
    "# Test the function\n",
    "(square, cube) = square_and_cube(10)\n",
    "print(\"square: %d\" % square)\n",
    "print(\"cube: %d\" % cube)"
   ]
  }
 ],
 "metadata": {
  "anaconda-cloud": {},
  "kernelspec": {
   "display_name": "Python [default]",
   "language": "python",
   "name": "python3"
  },
  "language_info": {
   "codemirror_mode": {
    "name": "ipython",
    "version": 3
   },
   "file_extension": ".py",
   "mimetype": "text/x-python",
   "name": "python",
   "nbconvert_exporter": "python",
   "pygments_lexer": "ipython3",
   "version": "3.5.2"
  }
 },
 "nbformat": 4,
 "nbformat_minor": 1
}
