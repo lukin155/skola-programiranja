{
 "cells": [
  {
   "cell_type": "markdown",
   "metadata": {},
   "source": [
    "Ukoliko želimo da se naš program ponaša drugačije u zavisnosti od nekih faktora, u Pajtonu koristimo naredbu grananja, odnosno naredbu <i>if</i>. Napisaćemo program koji određuje da li je broj pozitivan. Ukoliko je broj negativan, program neće raditi ništa nakon prihvatanja korisničkog unosa."
   ]
  },
  {
   "cell_type": "code",
   "execution_count": 6,
   "metadata": {
    "collapsed": false
   },
   "outputs": [
    {
     "name": "stdout",
     "output_type": "stream",
     "text": [
      "Enter a number: 5\n",
      "The number is positive.\n"
     ]
    }
   ],
   "source": [
    "number = int(input(\"Enter a number: \"))\n",
    "\n",
    "if number > 0:\n",
    "    print(\"The number is positive.\")\n",
    "    "
   ]
  },
  {
   "cell_type": "markdown",
   "metadata": {
    "collapsed": true
   },
   "source": [
    "Ključna reč <i>else</i> koristi se u paru sa ključnom rečju <i>if</i> i njome definišemo <i>else</i> granu, ili granu \"ne\". To je blok koda koji će se izvršiti ukoliko uslov u naredbi grananja (naredbi <i>if</i>) nije zadovoljen."
   ]
  },
  {
   "cell_type": "markdown",
   "metadata": {},
   "source": [
    "Kada se program izvršava, i dođe se do naredbe grananja, izvršiće se ili grana \"da\", ili grana \"ne\"."
   ]
  },
  {
   "cell_type": "code",
   "execution_count": 7,
   "metadata": {
    "collapsed": false
   },
   "outputs": [
    {
     "name": "stdout",
     "output_type": "stream",
     "text": [
      "Enter a number: 3\n",
      "The number is zero or positive.\n"
     ]
    }
   ],
   "source": [
    "number = int(input(\"Enter a number: \"))\n",
    "\n",
    "if number >= 0:\n",
    "    print(\"The number is zero or positive.\")\n",
    "else:\n",
    "    print(\"The number is negative.\")"
   ]
  },
  {
   "cell_type": "markdown",
   "metadata": {},
   "source": [
    "Ukoliko želimo da ispitamo da li je zadovoljeno dva ili više uslova, koristimo Pajtonov logički operator AND (matematička operacija konjukcije, odnosno matematičko \"i\")."
   ]
  },
  {
   "cell_type": "code",
   "execution_count": 8,
   "metadata": {
    "collapsed": false
   },
   "outputs": [
    {
     "name": "stdout",
     "output_type": "stream",
     "text": [
      "Enter a number: 15\n",
      "The number is not between 0 and 10.\n"
     ]
    }
   ],
   "source": [
    "number = int(input(\"Enter a number: \"))\n",
    "\n",
    "if (number > 0) and (number < 10):\n",
    "    print(\"The number is between 0 and 10.\")\n",
    "else:\n",
    "    print(\"The number is not between 0 and 10.\")"
   ]
  },
  {
   "cell_type": "markdown",
   "metadata": {},
   "source": [
    "Ukoliko želimo da ispitamo da li je zadovoljen bar jedan od dva ili više uslova, koristimo Pajtonov logički operator OR (matematička operacija konjukcije, odnosto matematičko \"ili\")."
   ]
  },
  {
   "cell_type": "code",
   "execution_count": 9,
   "metadata": {
    "collapsed": false
   },
   "outputs": [
    {
     "name": "stdout",
     "output_type": "stream",
     "text": [
      "Enter a number: 8\n",
      "Your number is not a 357 digit.\n"
     ]
    }
   ],
   "source": [
    "number = int(input(\"Enter a number: \"))\n",
    "\n",
    "if (3 == number) or (5 == number) or (7 == number):\n",
    "    print(\"Your number is a 357 digit.\")\n",
    "else:\n",
    "    print(\"Your number is not a 357 digit.\")"
   ]
  },
  {
   "cell_type": "markdown",
   "metadata": {},
   "source": [
    "Ukoliko želimo da se neki blok koda izvršava samo kada određeni uslov <b>nije</b> zadovoljen, koristimo logički operator NOT (matematička operacija negacije)."
   ]
  },
  {
   "cell_type": "code",
   "execution_count": 10,
   "metadata": {
    "collapsed": false
   },
   "outputs": [
    {
     "name": "stdout",
     "output_type": "stream",
     "text": [
      "Enter the square side: 5\n",
      "Square area is: 25.000000\n"
     ]
    }
   ],
   "source": [
    "###############################################################\n",
    "# A program to calculate the area of a square. If the input\n",
    "# square side is 0 or negative, we will print an error message\n",
    "# and quit the program\n",
    "###############################################################\n",
    "\n",
    "square_side = int(input(\"Enter the square side: \"))\n",
    "\n",
    "is_greater_than_zero = square_side > 0\n",
    "\n",
    "# Quit the program if the number is not greater than zero\n",
    "if not is_greater_than_zero:\n",
    "    print(\"The square side needs to be greater than zero.\")\n",
    "    quit()\n",
    "\n",
    "# If we didn't quit the program, than the number is okay to work with\n",
    "square_area = square_side ** 2\n",
    "print(\"Square area is: %f\" % square_area)"
   ]
  },
  {
   "cell_type": "markdown",
   "metadata": {},
   "source": [
    "Ključna reč <i>elif</i>, skraćeno od else-if, omogućava da naredbu grananja koristimo na sledeći način:<br />\n",
    "* Ukoliko je <i>uslov 1</i> zadovoljen, izvrši <i>blok 1</i>\n",
    "* Ukoliko nije, a zadovoljen je <i>uslov 2</i>, izvrši <i>blok 2</i>\n",
    "* Ukoliko nije, a zadovoljen je <i>uslov 3</i>, izvrši <i>blok 3</i>\n",
    "* ...\n",
    "* Ukoliko nije, a zadovoljen je <i>uslov N</i>, izvrši <i>blok N</i>\n",
    "* Ukoliko nije, izvrši <i>blok</i>"
   ]
  },
  {
   "cell_type": "markdown",
   "metadata": {},
   "source": [
    "Sledi primer u kome ćemo učitati jedan samoglasnik s tastature, a zatim ispisati ime koje počinje tim samoglasnikom."
   ]
  },
  {
   "cell_type": "code",
   "execution_count": 11,
   "metadata": {
    "collapsed": false
   },
   "outputs": [
    {
     "name": "stdout",
     "output_type": "stream",
     "text": [
      "Please enter a vowel: e\n",
      "The name starting with \"e\" is Ernest.\n"
     ]
    }
   ],
   "source": [
    "# The names\n",
    "a_name = \"Adriana\"\n",
    "e_name = \"Ernest\"\n",
    "i_name = \"Ian\"\n",
    "o_name = \"Olivia\"\n",
    "u_name = \"Ursula\"\n",
    "\n",
    "# Get a string from the keyboard\n",
    "instr = input(\"Please enter a vowel: \")\n",
    "\n",
    "out_template = \"The name starting with \\\"%s\\\" is %s.\"\n",
    "\n",
    "# Print the name or throw an exception if the given string is not a vowel\n",
    "if (\"a\" == instr) or (\"A\" == instr):\n",
    "    print(out_template % (instr, a_name))\n",
    "elif (\"e\" == instr) or (\"E\" == instr):\n",
    "    print(out_template % (instr, e_name))\n",
    "elif (\"i\" == instr) or (\"I\" == instr):\n",
    "    print(out_template % (instr, i_name))\n",
    "elif (\"o\" == instr) or (\"O\" == instr):\n",
    "    print(out_template % (instr, o_name))\n",
    "elif (\"u\" == instr) or (\"U\" == instr):\n",
    "    print(out_template % (instr, u_name))\n",
    "else:\n",
    "    print(\"The entered text is not a vowel.\")\n",
    "\n",
    "    "
   ]
  }
 ],
 "metadata": {
  "anaconda-cloud": {},
  "kernelspec": {
   "display_name": "Python [default]",
   "language": "python",
   "name": "python3"
  },
  "language_info": {
   "codemirror_mode": {
    "name": "ipython",
    "version": 3
   },
   "file_extension": ".py",
   "mimetype": "text/x-python",
   "name": "python",
   "nbconvert_exporter": "python",
   "pygments_lexer": "ipython3",
   "version": "3.5.2"
  }
 },
 "nbformat": 4,
 "nbformat_minor": 1
}
