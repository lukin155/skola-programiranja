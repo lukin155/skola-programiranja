{
 "cells": [
  {
   "cell_type": "markdown",
   "metadata": {},
   "source": [
    "Ukoliko želimo da se naš program ponaša drugačije u zavisnosti od nekih faktora, u Pajtonu koristimo naredbu grananja, odnosno naredbu <i>if</i>. Napisaćemo program koji određuje da li je broj pozitivan. Ukoliko je broj negativan, program neće raditi ništa nakon prihvatanja korisničkog unosa."
   ]
  },
  {
   "cell_type": "code",
   "execution_count": 16,
   "metadata": {
    "collapsed": false
   },
   "outputs": [
    {
     "name": "stdout",
     "output_type": "stream",
     "text": [
      "Enter a number: 5\n",
      "The number is positive.\n"
     ]
    }
   ],
   "source": [
    "number = int(input(\"Enter a number: \"))\n",
    "\n",
    "if (number > 0):\n",
    "    print(\"The number is positive.\")\n",
    "    "
   ]
  },
  {
   "cell_type": "markdown",
   "metadata": {
    "collapsed": true
   },
   "source": [
    "Ključna reč <i>else</i> koristi se u paru sa ključnom rečju <i>if</i> i njome definišemo <i>else</i> granu, ili granu \"ne\". To je blok koda koji će se izvršiti ukoliko uslov u naredbi grananja (naredbi </i>if</i>) nije zadovoljen."
   ]
  },
  {
   "cell_type": "markdown",
   "metadata": {},
   "source": [
    "Kada se program izvršava, i dođe se do naredbe grananja, izvršiće se ili grana \"da\", ili grana \"ne\"."
   ]
  },
  {
   "cell_type": "code",
   "execution_count": 17,
   "metadata": {
    "collapsed": false
   },
   "outputs": [
    {
     "name": "stdout",
     "output_type": "stream",
     "text": [
      "Enter a number: 3\n",
      "The number is zero or positive.\n"
     ]
    }
   ],
   "source": [
    "number = int(input(\"Enter a number: \"))\n",
    "\n",
    "if (number >= 0):\n",
    "    print(\"The number is zero or positive.\")\n",
    "else:\n",
    "    print(\"The number is negative.\")"
   ]
  },
  {
   "cell_type": "markdown",
   "metadata": {},
   "source": [
    "Ukoliko želimo da ispitamo da li je zadovoljeno dva ili više uslova, koristimo Pajtonov logički operator AND (matematička operacija konjukcije, odnosno matematičko \"i\")."
   ]
  },
  {
   "cell_type": "code",
   "execution_count": 18,
   "metadata": {
    "collapsed": false
   },
   "outputs": [
    {
     "name": "stdout",
     "output_type": "stream",
     "text": [
      "Enter a number: 15\n",
      "The number is not between 0 and 10.\n"
     ]
    }
   ],
   "source": [
    "number = int(input(\"Enter a number: \"))\n",
    "\n",
    "if (number > 0 and number < 10):\n",
    "    print(\"The number is between 0 and 10.\")\n",
    "else:\n",
    "    print(\"The number is not between 0 and 10.\")"
   ]
  },
  {
   "cell_type": "markdown",
   "metadata": {},
   "source": [
    "Ukoliko želimo da ispitamo da li je zadovoljen jedan od dva ili više uslova, koristimo Pajtonov logički operator OR (matematička operacija konjukcije, odnosto matematičko \"ili\")."
   ]
  },
  {
   "cell_type": "code",
   "execution_count": 19,
   "metadata": {
    "collapsed": false
   },
   "outputs": [
    {
     "name": "stdout",
     "output_type": "stream",
     "text": [
      "Enter a number: 8\n",
      "Your number is not a 357 digit.\n"
     ]
    }
   ],
   "source": [
    "number = int(input(\"Enter a number: \"))\n",
    "\n",
    "if (number == 3 or number == 5 or number == 7):\n",
    "    print(\"Your number is a 357 digit.\")\n",
    "else:\n",
    "    print(\"Your number is not a 357 digit.\")"
   ]
  },
  {
   "cell_type": "markdown",
   "metadata": {},
   "source": [
    "Ukoliko želimo da se neki blok koda izvršava samo kada određeni uslov <b>nije</b> zadovoljen, koristimo logički operator NOT (matematička operacija negacije)."
   ]
  },
  {
   "cell_type": "code",
   "execution_count": 1,
   "metadata": {
    "collapsed": false
   },
   "outputs": [
    {
     "name": "stdout",
     "output_type": "stream",
     "text": [
      "Enter the square side: 5\n",
      "Square area is: 25.000000\n"
     ]
    }
   ],
   "source": [
    "###############################################################\n",
    "# A program to calculate the area of a square. If the input\n",
    "# square side is 0 or negative, we will print an error message\n",
    "# and quit the program\n",
    "###############################################################\n",
    "\n",
    "square_side = int(input(\"Enter the square side: \"))\n",
    "\n",
    "is_greater_than_zero = square_side > 0\n",
    "\n",
    "# Quit the program if the number is not greater than zero\n",
    "if (not is_greater_than_zero):\n",
    "    print(\"The square side needs to be greater than zero.\")\n",
    "    quit()\n",
    "\n",
    "# If we didn't quit the program, than the number is okay to work with\n",
    "square_area = square_side ** 2\n",
    "print(\"Square area is: %f\" % square_area)"
   ]
  }
 ],
 "metadata": {
  "anaconda-cloud": {},
  "kernelspec": {
   "display_name": "Python [default]",
   "language": "python",
   "name": "python3"
  },
  "language_info": {
   "codemirror_mode": {
    "name": "ipython",
    "version": 3
   },
   "file_extension": ".py",
   "mimetype": "text/x-python",
   "name": "python",
   "nbconvert_exporter": "python",
   "pygments_lexer": "ipython3",
   "version": "3.5.2"
  }
 },
 "nbformat": 4,
 "nbformat_minor": 1
}
