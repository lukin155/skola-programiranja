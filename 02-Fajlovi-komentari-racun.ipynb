{
 "cells": [
  {
   "cell_type": "markdown",
   "metadata": {},
   "source": [
    "# Komande u konzoli\n",
    "Funkcija <i>print</i> služi za prikaz sadržaja na ekranu.<br />\n",
    "Pokrenite Pajton iz konzole (kao u lekciji Uvod). U konzoli otkucajte sledeće komande (ovde možete videti i komande i njihov izlaz na ekranu)."
   ]
  },
  {
   "cell_type": "code",
   "execution_count": 44,
   "metadata": {
    "collapsed": false
   },
   "outputs": [
    {
     "name": "stdout",
     "output_type": "stream",
     "text": [
      "This is the first line.\n"
     ]
    }
   ],
   "source": [
    "print(\"This is the first line.\")"
   ]
  },
  {
   "cell_type": "code",
   "execution_count": 45,
   "metadata": {
    "collapsed": false
   },
   "outputs": [
    {
     "name": "stdout",
     "output_type": "stream",
     "text": [
      "This is the second line.\n"
     ]
    }
   ],
   "source": [
    "print(\"This is the second line.\")"
   ]
  },
  {
   "cell_type": "code",
   "execution_count": 46,
   "metadata": {
    "collapsed": false
   },
   "outputs": [
    {
     "name": "stdout",
     "output_type": "stream",
     "text": [
      "This is the third line.\n"
     ]
    }
   ],
   "source": [
    "print(\"This is the third line.\")"
   ]
  },
  {
   "cell_type": "markdown",
   "metadata": {},
   "source": [
    "### Označavanje sintakse bojama (syntax highlighting) u editoru Notepad++"
   ]
  },
  {
   "cell_type": "markdown",
   "metadata": {},
   "source": [
    "Pokrenite <i>Notepad++</i>. Otkucajte u njemu kod programa \"Zdravo, svete\", kao u lekciji Uvod."
   ]
  },
  {
   "cell_type": "code",
   "execution_count": 1,
   "metadata": {
    "collapsed": false
   },
   "outputs": [
    {
     "name": "stdout",
     "output_type": "stream",
     "text": [
      "Hello, world!\n"
     ]
    }
   ],
   "source": [
    "print(\"Hello, world!\")"
   ]
  },
  {
   "cell_type": "markdown",
   "metadata": {},
   "source": [
    "Iz menija odaberite <i>Language</i> > <i>P</i> > <i>Python</i>. Primetićete da je ime funkcije označeno jednom bojom, a tekst pod navodnicima koji se prosleđuje ovoj funkciji - drugom bojom."
   ]
  },
  {
   "cell_type": "markdown",
   "metadata": {},
   "source": [
    "# Komande u fajlovima"
   ]
  },
  {
   "cell_type": "markdown",
   "metadata": {},
   "source": [
    "U editoru (<i>Notepad++</i>) zatvorite dokument koji ste do sada koristili (verovatno se zove \"new 1\"). Nemojte ga čuvati. Otvoriće se novi dokument. Ukoliko se nije otvorio, otvorite ga kroz meni: <i>File</i> > <i>New</i>.<br /><br />\n",
    "Sačuvajte novi dokument na hard disku: <i>File</i> > <i>Save As...</i>. Ekstenzija dokumenta treba da bude \"py\", npr. <i>program1.py</i>. Zapamtite u kom direktorijumu i pod kojim imenom je sačuvan dokument, npr. u direktorijumu <i>c:\\programs</i> pod imenom <i>program1.py</i>. Otkucajte iste tri print komande, kao na početku ove lekcije. Ovde je vidljiv i Pajton kod i njegov izlaz nakon izvršavanja, a u editoru ćete videti samo kod."
   ]
  },
  {
   "cell_type": "code",
   "execution_count": 2,
   "metadata": {
    "collapsed": false,
    "scrolled": true
   },
   "outputs": [
    {
     "name": "stdout",
     "output_type": "stream",
     "text": [
      "This is the first line.\n",
      "This is the second line.\n",
      "This is the third line.\n"
     ]
    }
   ],
   "source": [
    "print(\"This is the first line.\")\n",
    "print(\"This is the second line.\")\n",
    "print(\"This is the third line.\")"
   ]
  },
  {
   "cell_type": "markdown",
   "metadata": {},
   "source": [
    "Primetićete da <i>Notepad++</i> označava različitim bojama funkciju <i>print</i> i tekst pod navodnicima, odnosno da \"zna\" da se radi o Pajton kodu. <i>Notepad++</i> može da zaključi kako da boji tekst (syntax highlight) na osnovu ekstenzije fajla koji prikazuje, bez eksplicitnog naznačavanja programskog jezika koje nam je bilo neophodno za prethodni dokument."
   ]
  },
  {
   "cell_type": "markdown",
   "metadata": {},
   "source": [
    "## Izvršavanje komandi koje se nalaze u fajlu\n",
    "Otvorite konzolu i u njoj pređite u direktorijum u kome je sačuvan malopređašnji fajl:<br />\n",
    "<i>cd \"c:\\programs\"</i>.<br />\n",
    "\n",
    "Zatim dajte komandu Pajtonu da izvrši kod koji se nalazi u dokumentu koji smo maločas napravili. U vindovs konzolo otkucajte:<br />\n",
    "<i>python program1.py</i><br /><br />\n",
    "Na ekranu ćete videti sledeći izlaz (ovde se vidi i kod i izlaz, vi ćete videti samo izlaz):"
   ]
  },
  {
   "cell_type": "code",
   "execution_count": 3,
   "metadata": {
    "collapsed": false
   },
   "outputs": [
    {
     "name": "stdout",
     "output_type": "stream",
     "text": [
      "This is the first line.\n",
      "This is the second line.\n",
      "This is the third line.\n"
     ]
    }
   ],
   "source": [
    "print(\"This is the first line.\")\n",
    "print(\"This is the second line.\")\n",
    "print(\"This is the third line.\")"
   ]
  },
  {
   "cell_type": "markdown",
   "metadata": {},
   "source": [
    "U većini vežbi, sav Pajton kod ćemo kucati u editoru <i>Notepad++</i>, čuvati u fajlove s ekstenzijom \"py\", a izvršavati iz konzole koristeći komandu:<br />\n",
    "<i>python ime_programa.py</i>"
   ]
  },
  {
   "cell_type": "markdown",
   "metadata": {},
   "source": [
    "# Komentari u Pajtonu"
   ]
  },
  {
   "cell_type": "markdown",
   "metadata": {},
   "source": [
    "Napravite fajl željenog naziva, u njega dodajte sledeći kod, i izvršite komandom koju smo koristili u ovoj lekciji (<i>python ime_programa.py</i>)."
   ]
  },
  {
   "cell_type": "code",
   "execution_count": 4,
   "metadata": {
    "collapsed": false
   },
   "outputs": [
    {
     "name": "stdout",
     "output_type": "stream",
     "text": [
      "Moj program\n"
     ]
    }
   ],
   "source": [
    "# Ovo je moj program\n",
    "print(\"Moj program\")"
   ]
  },
  {
   "cell_type": "markdown",
   "metadata": {},
   "source": [
    "Zatim napravite sledeći program."
   ]
  },
  {
   "cell_type": "code",
   "execution_count": 5,
   "metadata": {
    "collapsed": false
   },
   "outputs": [
    {
     "ename": "SyntaxError",
     "evalue": "invalid syntax (<ipython-input-5-860f7616cfe3>, line 2)",
     "output_type": "error",
     "traceback": [
      "\u001b[0;36m  File \u001b[0;32m\"<ipython-input-5-860f7616cfe3>\"\u001b[0;36m, line \u001b[0;32m2\u001b[0m\n\u001b[0;31m    i mnogo je zanimljiv\u001b[0m\n\u001b[0m          ^\u001b[0m\n\u001b[0;31mSyntaxError\u001b[0m\u001b[0;31m:\u001b[0m invalid syntax\n"
     ]
    }
   ],
   "source": [
    "# Ovo je moj program\n",
    "i mnogo je zanimljiv\n",
    "print(\"Moj program\")"
   ]
  },
  {
   "cell_type": "markdown",
   "metadata": {},
   "source": [
    "Javila se greška \"nevalidna sintaksa\", kojom nam Pajton govori da ne prepoznaje reči koje smo mu dali kao komande. Postoji određeni skup reči i pravila koje čine jezik. Kada ih ne poštujemo, izazivamo greške poput ove.<br /><be />\n",
    "\n",
    "Napravite sada sledeći program (samo u prethodni program dodajte tarabu (#) na početku drugog reda)."
   ]
  },
  {
   "cell_type": "code",
   "execution_count": 6,
   "metadata": {
    "collapsed": false
   },
   "outputs": [
    {
     "name": "stdout",
     "output_type": "stream",
     "text": [
      "Moj program\n"
     ]
    }
   ],
   "source": [
    "# Ovo je moj program\n",
    "#i mnogo je zanimljiv\n",
    "print(\"Moj program\")"
   ]
  },
  {
   "cell_type": "markdown",
   "metadata": {},
   "source": [
    "Pajton ne prepoznaje reči poput \"ovo\", \"je\", \"zanimljiv\" itd. Međutim, prepoznaje tarabu (#) i ona u Pajtonu označava <i>komentare</i>. U programskim jezicima, komentari su nešto što se ignoriše, kao da ne postoji. Pošto za samo izvršenje programa nemaju nikakvo značenje (jer se ignorišu), koriste se uglavnom za dve stvari:\n",
    "* za opisivanje programa\n",
    "* za \"izbacivanje\" određenih delova koda"
   ]
  },
  {
   "cell_type": "markdown",
   "metadata": {},
   "source": [
    "Opisivanje programa je bitno, jer kod postaje čitljiviji za čoveka. Kada neko drugi pogleda vaš kod, ili treba da nastavi da ga razvija, lakše će mu biti ukoliko on sadrži komentare koji objašnjavaju zašto određeni delovi izgledaju baš tako kako izgledaju. I vama samima će komentari u sopstvenom kodu značiti mnogo kada svoj kod gledate posle dužeg vremena, jer ćete zaboraviti \"šta je pisac hteo da kaže\".<br />\n",
    "Prilikom otkrivanja grešaka u kodu (debagiranja, debagovanja), često ćete želeti da uklonite neki njegov deo. Umesto da te delove brišete, čuvate u nekom drugom fajlu, pa vraćate u svoj program, možete ih jednostavno pretvoriti u komentare (dodavanjem tarabe na početku linije). Većina editora ima prečicu na tastaturi za ove potrebe, koja je naročito korisna kada veliki broj susednih linija pretvarate u komentare. U editoru <i>Notepad++</i>, prečica CTRL + K pretvara sve označene linije koda u komentar, a prečica CTRL + SHIFT + K ih vraća.<br /><br />\n",
    "Primeri zanimljivih i duhovitih komentara: http://stackoverflow.com/questions/184618/what-is-the-best-comment-in-source-code-you-have-ever-encountered"
   ]
  },
  {
   "cell_type": "markdown",
   "metadata": {},
   "source": [
    "# Brojevi i račun"
   ]
  },
  {
   "cell_type": "markdown",
   "metadata": {},
   "source": [
    "Pokrenite Pajton konzolu. U njoj isprobajte matematičke operacije sabiranja, oduzimanja, množenja i deljenja. Na primer:"
   ]
  },
  {
   "cell_type": "code",
   "execution_count": 7,
   "metadata": {
    "collapsed": false
   },
   "outputs": [
    {
     "data": {
      "text/plain": [
       "5"
      ]
     },
     "execution_count": 7,
     "metadata": {},
     "output_type": "execute_result"
    }
   ],
   "source": [
    "2 + 3"
   ]
  },
  {
   "cell_type": "code",
   "execution_count": 8,
   "metadata": {
    "collapsed": false
   },
   "outputs": [
    {
     "data": {
      "text/plain": [
       "-3"
      ]
     },
     "execution_count": 8,
     "metadata": {},
     "output_type": "execute_result"
    }
   ],
   "source": [
    "5 - 8"
   ]
  },
  {
   "cell_type": "code",
   "execution_count": 9,
   "metadata": {
    "collapsed": false
   },
   "outputs": [
    {
     "data": {
      "text/plain": [
       "104"
      ]
     },
     "execution_count": 9,
     "metadata": {},
     "output_type": "execute_result"
    }
   ],
   "source": [
    "8 * 13"
   ]
  },
  {
   "cell_type": "code",
   "execution_count": 10,
   "metadata": {
    "collapsed": false
   },
   "outputs": [
    {
     "data": {
      "text/plain": [
       "2.5"
      ]
     },
     "execution_count": 10,
     "metadata": {},
     "output_type": "execute_result"
    }
   ],
   "source": [
    "5 / 2"
   ]
  },
  {
   "cell_type": "markdown",
   "metadata": {},
   "source": [
    "Redosled izvršavanja operacija i zagrade važe kao i u matematici. U tehničkoj dokumentaciji jezika Pajton, ovo je objašnjeno do tančina. Na primer:"
   ]
  },
  {
   "cell_type": "code",
   "execution_count": 11,
   "metadata": {
    "collapsed": false
   },
   "outputs": [
    {
     "data": {
      "text/plain": [
       "13"
      ]
     },
     "execution_count": 11,
     "metadata": {},
     "output_type": "execute_result"
    }
   ],
   "source": [
    "(2 + 3) * 2 + 3"
   ]
  },
  {
   "cell_type": "markdown",
   "metadata": {},
   "source": [
    "Isprobajte operaciju celobrojnog deljenja ili \"deljenja sa zaokruživanjem na dole\":"
   ]
  },
  {
   "cell_type": "code",
   "execution_count": 12,
   "metadata": {
    "collapsed": false
   },
   "outputs": [
    {
     "data": {
      "text/plain": [
       "2"
      ]
     },
     "execution_count": 12,
     "metadata": {},
     "output_type": "execute_result"
    }
   ],
   "source": [
    "5 // 2"
   ]
  },
  {
   "cell_type": "code",
   "execution_count": 13,
   "metadata": {
    "collapsed": false
   },
   "outputs": [
    {
     "data": {
      "text/plain": [
       "-3"
      ]
     },
     "execution_count": 13,
     "metadata": {},
     "output_type": "execute_result"
    }
   ],
   "source": [
    "-5 // 2"
   ]
  },
  {
   "cell_type": "markdown",
   "metadata": {},
   "source": [
    "Isprobajte operaciju <i>moduo</i>, odnosno \"ostatak pri deljenju sa\". Na primer:"
   ]
  },
  {
   "cell_type": "code",
   "execution_count": 14,
   "metadata": {
    "collapsed": false
   },
   "outputs": [
    {
     "data": {
      "text/plain": [
       "1"
      ]
     },
     "execution_count": 14,
     "metadata": {},
     "output_type": "execute_result"
    }
   ],
   "source": [
    "9 % 2"
   ]
  },
  {
   "cell_type": "code",
   "execution_count": 15,
   "metadata": {
    "collapsed": false
   },
   "outputs": [
    {
     "data": {
      "text/plain": [
       "7"
      ]
     },
     "execution_count": 15,
     "metadata": {},
     "output_type": "execute_result"
    }
   ],
   "source": [
    "37 % 10"
   ]
  },
  {
   "cell_type": "markdown",
   "metadata": {},
   "source": [
    "Isprobajte operacije poređenja. Njih možete isprobati na zanimljiv način tako što ćete napraviti sledeći program (iskucate kod u fajl, sačuvate fajl i iz Vindovs konzole kažete Pajtonu da pokrene taj fajl - <i>python ime_fajla.py</i>."
   ]
  },
  {
   "cell_type": "code",
   "execution_count": 16,
   "metadata": {
    "collapsed": false
   },
   "outputs": [
    {
     "name": "stdout",
     "output_type": "stream",
     "text": [
      "Is it true that 5 is greater than 4?\n",
      "True\n",
      "Is it true that 100 is less than 50?\n",
      "False\n",
      "Is it true that 3 is greater that or equal to 5?\n",
      "False\n",
      "Is it true that 6 is less than or equal to 6?\n",
      "True\n"
     ]
    }
   ],
   "source": [
    "### This is a cool program for demonstrating Python's logical operations ###\n",
    "\n",
    "# Demonstrate the operator \"greater than\"\n",
    "print(\"Is it true that 5 is greater than 4?\")\n",
    "print(5 > 4)\n",
    "\n",
    "# Demonstrate the operator \"less than\"\n",
    "print(\"Is it true that 100 is less than 50?\")\n",
    "print(100 < 50)\n",
    "\n",
    "# Demonstrate the operator \"greater than or equal to\"\n",
    "print(\"Is it true that 3 is greater that or equal to 5?\")\n",
    "print(3 >= 5)\n",
    "\n",
    "# Demonstrate the operator \"less than or equal to\"\n",
    "print(\"Is it true that 6 is less than or equal to 6?\")\n",
    "print(6 >= 6)"
   ]
  },
  {
   "cell_type": "markdown",
   "metadata": {},
   "source": [
    "Funkcija <i>print</i> može prikazati na ekranu, ili \"štampati\":\n",
    "* tekst (koji joj se prosleđuje pod navodnicima) kao što smo videli u uvodnoj lekciji\n",
    "* rezultate logičkih operacija - \"True\" i \"False\"\n",
    "* brojeve\n",
    "* ..."
   ]
  },
  {
   "cell_type": "markdown",
   "metadata": {},
   "source": [
    "Primer sa brojevima:"
   ]
  },
  {
   "cell_type": "code",
   "execution_count": 17,
   "metadata": {
    "collapsed": false
   },
   "outputs": [
    {
     "name": "stdout",
     "output_type": "stream",
     "text": [
      "2\n",
      "8\n"
     ]
    }
   ],
   "source": [
    "# Print a number\n",
    "print(2)\n",
    "# Print a number which is a result of a mathematical operation\n",
    "print(2 + 3 - 5 + 8)"
   ]
  }
 ],
 "metadata": {
  "anaconda-cloud": {},
  "kernelspec": {
   "display_name": "Python [default]",
   "language": "python",
   "name": "python3"
  },
  "language_info": {
   "codemirror_mode": {
    "name": "ipython",
    "version": 3
   },
   "file_extension": ".py",
   "mimetype": "text/x-python",
   "name": "python",
   "nbconvert_exporter": "python",
   "pygments_lexer": "ipython3",
   "version": "3.5.2"
  }
 },
 "nbformat": 4,
 "nbformat_minor": 1
}
